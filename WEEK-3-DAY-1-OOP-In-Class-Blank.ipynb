{
 "cells": [
  {
   "cell_type": "markdown",
   "metadata": {},
   "source": [
    "# Object-Oriented-Programming (OOP)"
   ]
  },
  {
   "cell_type": "markdown",
   "metadata": {},
   "source": [
    "## Tasks Today:\n",
    "\n",
    "   \n",
    "\n",
    "1) <b>Creating a Class (Initializing/Declaring)</b> <br>\n",
    "2) <b>Using a Class (Instantiating)</b> <br>\n",
    " &nbsp;&nbsp;&nbsp;&nbsp; a) Creating One Instance <br>\n",
    " &nbsp;&nbsp;&nbsp;&nbsp; b) Creating Multiple Instances <br>\n",
    " &nbsp;&nbsp;&nbsp;&nbsp; c) In-Class Exercise #1 - Create a Class 'Car' and instantiate three different makes of cars <br>\n",
    "3) <b>The \\__init\\__() Method</b> <br>\n",
    " &nbsp;&nbsp;&nbsp;&nbsp; a) The 'self' Attribute <br>\n",
    "4) <b>Class Attributes</b> <br>\n",
    " &nbsp;&nbsp;&nbsp;&nbsp; a) Initializing Attributes <br>\n",
    " &nbsp;&nbsp;&nbsp;&nbsp; b) Setting an Attribute Outside of the \\__init\\__() Method <br>\n",
    " &nbsp;&nbsp;&nbsp;&nbsp; c) Setting Defaults for Attributes <br>\n",
    " &nbsp;&nbsp;&nbsp;&nbsp; d) Accessing Class Attributes <br>\n",
    " &nbsp;&nbsp;&nbsp;&nbsp; e) Changing Class Attributes <br>\n",
    " &nbsp;&nbsp;&nbsp;&nbsp; f) In-Class Exercise #2 - Add a color and wheels attribute to your 'Car' class <br>\n",
    "5) <b>Class Methods</b> <br>\n",
    " &nbsp;&nbsp;&nbsp;&nbsp; a) Creating <br>\n",
    " &nbsp;&nbsp;&nbsp;&nbsp; b) Calling <br>\n",
    " &nbsp;&nbsp;&nbsp;&nbsp; c) Modifying an Attribute's Value Through a Method <br>\n",
    " &nbsp;&nbsp;&nbsp;&nbsp; d) Incrementing an Attribute's Value Through a Method <br>\n",
    " &nbsp;&nbsp;&nbsp;&nbsp; e) In-Class Exercise #3 - Add a method that prints the cars color and wheel number, then call them <br>\n",
    "6) <b>Inheritance</b> <br>\n",
    " &nbsp;&nbsp;&nbsp;&nbsp; a) Syntax for Inheriting from a Parent Class <br>\n",
    " &nbsp;&nbsp;&nbsp;&nbsp; b) The \\__init\\__() Method for a Child Class (super()) <br>\n",
    " &nbsp;&nbsp;&nbsp;&nbsp; c) Defining Attributes and Methods for the Child Class <br>\n",
    " &nbsp;&nbsp;&nbsp;&nbsp; d) Method Overriding <br>\n",
    " &nbsp;&nbsp;&nbsp;&nbsp; e) In-Class Exercise #4 - Create a class 'Ford' that inherits from 'Car' class and initialize it as a Blue Ford Explorer with 4 wheels using the super() method <br>\n",
    "7) <b>Classes as Attributes</b> <br>\n",
    "8) <b>Exercises</b> <br>\n",
    " &nbsp;&nbsp;&nbsp;&nbsp; a) Exercise #1 - Turn the shopping cart program from yesterday into an object-oriented program <br>"
   ]
  },
  {
   "cell_type": "markdown",
   "metadata": {},
   "source": [
    "## Creating a Class (Initializing/Declaring)\n",
    "<p>When creating a class, function, or even a variable you are initializing that object. Initializing and Declaring occur at the same time in Python, whereas in lower level languages you have to declare an object before initializing it. This is the first step in the process of using a class.</p>"
   ]
  },
  {
   "cell_type": "code",
   "execution_count": 4,
   "metadata": {},
   "outputs": [],
   "source": [
    "#class Car():\n",
    "#    wheels = 4\n",
    "#    color = 'blue'"
   ]
  },
  {
   "cell_type": "markdown",
   "metadata": {},
   "source": [
    "## Using a Class (Instantiating)\n",
    "<p>The process of creating a class is called <i>Instantiating</i>. Each time you create a variable of that type of class, it is referred to as an <i>Instance</i> of that class. This is the second step in the process of using a class.</p>"
   ]
  },
  {
   "cell_type": "markdown",
   "metadata": {},
   "source": [
    "##### Creating One Instance"
   ]
  },
  {
   "cell_type": "code",
   "execution_count": null,
   "metadata": {},
   "outputs": [],
   "source": [
    "ford = Car()"
   ]
  },
  {
   "cell_type": "markdown",
   "metadata": {},
   "source": [
    "##### Creating Multiple Instances"
   ]
  },
  {
   "cell_type": "code",
   "execution_count": null,
   "metadata": {},
   "outputs": [],
   "source": []
  },
  {
   "cell_type": "markdown",
   "metadata": {},
   "source": [
    "##### In-Class Exercise #1 - Create a Class 'Car' and Instantiate three different makes of cars"
   ]
  },
  {
   "cell_type": "code",
   "execution_count": 40,
   "metadata": {},
   "outputs": [
    {
     "name": "stdout",
     "output_type": "stream",
     "text": [
      "hatchback\n",
      "2002\n",
      "RSX Type-S hatchback\n"
     ]
    }
   ],
   "source": [
    "class Car():\n",
    "    make = \"\"\n",
    "    model = \"\"\n",
    "    year = 0\n",
    "    color = \"\"\n",
    "    \n",
    "    def __init__(self, make = '', model='', year=0, color=''):\n",
    "        self.make = make\n",
    "        self.model = model\n",
    "        self.year = year\n",
    "        self.color = color\n",
    "        \n",
    "    def __repr__(self):\n",
    "            return f\"{self.make} {self.model}\"\n",
    "    \n",
    "honda = Car()\n",
    "toyota = Car()\n",
    "acura = Car(\"RSX Type-S\", \"hatchback\", 2002, \"black\")\n",
    "honda.make = \"CR-Z\"\n",
    "honda.model = \"hatchback\"\n",
    "honda.year = 2012\n",
    "honda.color = \"silver\"\n",
    "toyota.make = \"Corolla\"\n",
    "toyota.model = \"sedan\"\n",
    "toyota.year = 2010\n",
    "toyota.color = \"red\"\n",
    "\n",
    "#acura.make = \"RSX Type-S\"\n",
    "#acura.model = \"hatchback\"\n",
    "#acura.year = 2002\n",
    "#acura.color = \"black\"\n",
    "print(acura.model)\n",
    "print(acura.year)\n",
    "print(repr(acura))"
   ]
  },
  {
   "cell_type": "markdown",
   "metadata": {},
   "source": [
    "## The \\__init\\__() Method <br>\n",
    "<p>This method is used in almost every created class, and called only once upon the creation of the class instance. This method will initialize all variables needed for the object.</p>"
   ]
  },
  {
   "cell_type": "code",
   "execution_count": 38,
   "metadata": {},
   "outputs": [
    {
     "name": "stdout",
     "output_type": "stream",
     "text": [
      "<__main__.Car object at 0x000002AD6B0EC5E0>\n"
     ]
    }
   ],
   "source": []
  },
  {
   "cell_type": "markdown",
   "metadata": {},
   "source": [
    "##### The 'self' Attribute <br>\n",
    "<p>This attribute is required to keep track of specific instance's attributes. Without the self attribute, the program would not know how to reference or keep track of an instance's attributes.</p>"
   ]
  },
  {
   "cell_type": "code",
   "execution_count": 6,
   "metadata": {},
   "outputs": [
    {
     "name": "stdout",
     "output_type": "stream",
     "text": [
      "Honda\n"
     ]
    }
   ],
   "source": [
    "# see above\n",
    "class Vehicle():\n",
    "    wheels = 4\n",
    "    \n",
    "    def __init__(self, make, model, year):\n",
    "        self.make = make\n",
    "        self.model = model\n",
    "        self.year = year\n",
    "        \n",
    "        \n",
    "crz = Vehicle('Honda', \"CR-Z\", \"2012\")\n",
    "print(crz.make)"
   ]
  },
  {
   "cell_type": "markdown",
   "metadata": {},
   "source": [
    "## Class Attributes <br>\n",
    "<p>While variables are inside of a class, they are referred to as attributes and not variables. When someone says 'attribute' you know they're speaking about a class. Attributes can be initialized through the init method, or outside of it.</p>"
   ]
  },
  {
   "cell_type": "markdown",
   "metadata": {},
   "source": [
    "##### Initializing Attributes"
   ]
  },
  {
   "cell_type": "code",
   "execution_count": null,
   "metadata": {},
   "outputs": [],
   "source": [
    "# see above"
   ]
  },
  {
   "cell_type": "markdown",
   "metadata": {},
   "source": [
    "##### Accessing Class Attributes"
   ]
  },
  {
   "cell_type": "code",
   "execution_count": null,
   "metadata": {
    "scrolled": true
   },
   "outputs": [],
   "source": [
    "# See Above"
   ]
  },
  {
   "cell_type": "markdown",
   "metadata": {},
   "source": [
    "##### Setting Defaults for Attributes"
   ]
  },
  {
   "cell_type": "code",
   "execution_count": null,
   "metadata": {},
   "outputs": [],
   "source": []
  },
  {
   "cell_type": "markdown",
   "metadata": {},
   "source": [
    "##### Changing Class Attributes <br>\n",
    "<p>Keep in mind there are global class attributes and then there are attributes only available to each class instance which won't effect other classes.</p>"
   ]
  },
  {
   "cell_type": "code",
   "execution_count": 37,
   "metadata": {},
   "outputs": [
    {
     "name": "stdout",
     "output_type": "stream",
     "text": [
      "<__main__.Car object at 0x000002AD6B0EC5E0>\n"
     ]
    }
   ],
   "source": []
  },
  {
   "cell_type": "code",
   "execution_count": null,
   "metadata": {},
   "outputs": [],
   "source": []
  },
  {
   "cell_type": "markdown",
   "metadata": {},
   "source": [
    "##### In-Class Exercise #2 - Add a doors and seats attribute to your 'Car' class then print out two different instances with different doors and seats"
   ]
  },
  {
   "cell_type": "code",
   "execution_count": 14,
   "metadata": {},
   "outputs": [
    {
     "name": "stdout",
     "output_type": "stream",
     "text": [
      "RSX Type-S 2\n",
      "Corolla 4\n",
      "CR-Z 2\n"
     ]
    }
   ],
   "source": [
    "Car.doors = 4\n",
    "Car.seats = 2\n",
    "\n",
    "acura.doors = 2\n",
    "honda.doors = 2\n",
    "acura.seats = 5\n",
    "toyota.seats = 5\n",
    "\n",
    "print(acura.make, acura.doors)\n",
    "print(toyota.make, toyota.doors)\n",
    "print(honda.make , honda.doors)"
   ]
  },
  {
   "cell_type": "markdown",
   "metadata": {},
   "source": [
    "## Class Methods <br>\n",
    "<p>While inside of a class, functions are referred to as 'methods'. If you hear someone mention methods, they're speaking about classes. Methods are essentially functions, but only callable on the instances of a class.</p>"
   ]
  },
  {
   "cell_type": "markdown",
   "metadata": {},
   "source": [
    "##### Creating"
   ]
  },
  {
   "cell_type": "code",
   "execution_count": null,
   "metadata": {},
   "outputs": [],
   "source": []
  },
  {
   "cell_type": "markdown",
   "metadata": {},
   "source": [
    "##### Calling"
   ]
  },
  {
   "cell_type": "code",
   "execution_count": null,
   "metadata": {},
   "outputs": [],
   "source": [
    "# See Above"
   ]
  },
  {
   "cell_type": "markdown",
   "metadata": {},
   "source": [
    "##### Modifying an Attribute's Value Through a Method"
   ]
  },
  {
   "cell_type": "code",
   "execution_count": null,
   "metadata": {},
   "outputs": [],
   "source": []
  },
  {
   "cell_type": "markdown",
   "metadata": {},
   "source": [
    "##### Incrementing an Attribute's Value Through a Method"
   ]
  },
  {
   "cell_type": "code",
   "execution_count": null,
   "metadata": {},
   "outputs": [],
   "source": []
  },
  {
   "cell_type": "markdown",
   "metadata": {},
   "source": [
    "##### In-Class Exercise #3 - Add a method that takes in three parameters of year, doors and seats and prints out a formatted print statement with make, model, year, seats, and doors"
   ]
  },
  {
   "cell_type": "code",
   "execution_count": 54,
   "metadata": {
    "scrolled": true
   },
   "outputs": [
    {
     "name": "stdout",
     "output_type": "stream",
     "text": [
      "This car is from 2019 and is a Ford Explorer and has 4 doors and 5 seats\n"
     ]
    },
    {
     "ename": "AttributeError",
     "evalue": "'Supercars' object has no attribute 'year'",
     "output_type": "error",
     "traceback": [
      "\u001b[1;31m---------------------------------------------------------------------------\u001b[0m",
      "\u001b[1;31mAttributeError\u001b[0m                            Traceback (most recent call last)",
      "Cell \u001b[1;32mIn[54], line 22\u001b[0m\n\u001b[0;32m     20\u001b[0m ford\u001b[38;5;241m.\u001b[39mseatyeardoor(year\u001b[38;5;241m=\u001b[39m\u001b[38;5;241m2019\u001b[39m, doors \u001b[38;5;241m=\u001b[39m \u001b[38;5;241m4\u001b[39m, seats \u001b[38;5;241m=\u001b[39m \u001b[38;5;241m5\u001b[39m)\n\u001b[0;32m     21\u001b[0m acura \u001b[38;5;241m=\u001b[39m Supercars(\u001b[38;5;124m\"\u001b[39m\u001b[38;5;124mAcura\u001b[39m\u001b[38;5;124m\"\u001b[39m, \u001b[38;5;124m\"\u001b[39m\u001b[38;5;124mNSX\u001b[39m\u001b[38;5;124m\"\u001b[39m)\n\u001b[1;32m---> 22\u001b[0m \u001b[38;5;28mprint\u001b[39m(\u001b[43macura\u001b[49m\u001b[38;5;241;43m.\u001b[39;49m\u001b[43myear\u001b[49m \u001b[38;5;241m==\u001b[39m \u001b[38;5;241m0\u001b[39m)\n",
      "\u001b[1;31mAttributeError\u001b[0m: 'Supercars' object has no attribute 'year'"
     ]
    }
   ],
   "source": [
    "# Create class with 2 paramters inside of the __init__ which are make and model\n",
    "\n",
    "# Inside of the Car class create a method that has 4 parameter in total (self,year,door,seats)\n",
    "\n",
    "# Output: This car is from 2019 and is a Ford Expolorer and has 4 doors and 5 seats\n",
    "\n",
    "class Supercars():\n",
    "    \n",
    "    def __init__(self, make = \"\", model = \"\"):\n",
    "        self.make = make\n",
    "        self.model = model\n",
    "        \n",
    "    def seatyeardoor(self, year = 0, seats = 2, doors= 2):\n",
    "        self.year = year\n",
    "        self.seats = seats\n",
    "        self.doors = doors\n",
    "        print(f\"This car is from {self.year} and is a {self.make} {self.model} and has {doors} doors and {seats} seats\")\n",
    "        \n",
    "ford = Supercars(\"Ford\", \"Explorer\")\n",
    "ford.seatyeardoor(year=2019, doors = 4, seats = 5)\n",
    "acura = Supercars(\"Acura\", \"NSX\")\n"
   ]
  },
  {
   "cell_type": "markdown",
   "metadata": {},
   "source": [
    "## Inheritance <br>\n",
    "<p>You can create a child-parent relationship between two classes by using inheritance. What this allows you to do is have overriding methods, but also inherit traits from the parent class. Think of it as an actual parent and child, the child will inherit the parent's genes, as will the classes in OOP</p>"
   ]
  },
  {
   "cell_type": "markdown",
   "metadata": {},
   "source": [
    "##### Syntax for Inheriting from a Parent Class"
   ]
  },
  {
   "cell_type": "code",
   "execution_count": null,
   "metadata": {},
   "outputs": [],
   "source": []
  },
  {
   "cell_type": "markdown",
   "metadata": {},
   "source": [
    "##### The \\__init\\__() Method for a Child Class - super()"
   ]
  },
  {
   "cell_type": "code",
   "execution_count": null,
   "metadata": {
    "scrolled": true
   },
   "outputs": [],
   "source": []
  },
  {
   "cell_type": "markdown",
   "metadata": {},
   "source": [
    "##### Defining Attributes and Methods for the Child Class"
   ]
  },
  {
   "cell_type": "code",
   "execution_count": null,
   "metadata": {},
   "outputs": [],
   "source": [
    "# See Above"
   ]
  },
  {
   "cell_type": "markdown",
   "metadata": {},
   "source": [
    "##### Method Overriding"
   ]
  },
  {
   "cell_type": "code",
   "execution_count": null,
   "metadata": {},
   "outputs": [],
   "source": [
    "# See Above\n",
    "\n"
   ]
  },
  {
   "cell_type": "markdown",
   "metadata": {},
   "source": [
    "## Classes as Attributes <br>\n",
    "<p>Classes can also be used as attributes within another class. This is useful in situations where you need to keep variables locally stored, instead of globally stored.</p>"
   ]
  },
  {
   "cell_type": "code",
   "execution_count": null,
   "metadata": {},
   "outputs": [],
   "source": []
  },
  {
   "cell_type": "markdown",
   "metadata": {},
   "source": [
    "# Exercises"
   ]
  },
  {
   "cell_type": "markdown",
   "metadata": {},
   "source": [
    "### Exercise 1 - Turn the shopping cart program from yesterday into an object-oriented program\n",
    "\n",
    "The comments in the cell below are there as a guide for thinking about the problem. However, if you feel a different way is best for you and your own thought process, please do what feels best for you by all means."
   ]
  },
  {
   "cell_type": "code",
   "execution_count": 3,
   "metadata": {
    "scrolled": true
   },
   "outputs": [
    {
     "name": "stdout",
     "output_type": "stream",
     "text": [
      "Welcome to Spinj's Food Delivery Service 2.0: Your one-stop food delivery app! We're 'classy' like that.\n",
      "Let's get you started! \n",
      "Which store would you like to go to? OatsMill, Cheese Factory, or Stanley's Soda? oats\n",
      "Do you want to : Show/Add/Delete or Quit? quit\n",
      "Are you sure you want to leave OatsMill? Y/N y\n",
      "OatsMill thanks you for stopping by! \n",
      "You you like to continue shopping? Y/N n\n",
      "Thank you for using Spinj's Food Delivery Service 2.0!\n"
     ]
    },
    {
     "ename": "SystemExit",
     "evalue": "0",
     "output_type": "error",
     "traceback": [
      "An exception has occurred, use %tb to see the full traceback.\n",
      "\u001b[1;31mSystemExit\u001b[0m\u001b[1;31m:\u001b[0m 0\n"
     ]
    }
   ],
   "source": [
    "# Create a class called cart that retains items and has methods to add, remove, and show\n",
    "import sys\n",
    "\n",
    "all_items = []\n",
    "#oat_items = []\n",
    "#ch_items = []\n",
    "#soda_items = []\n",
    "\n",
    "class Cart:\n",
    "    in_cart = []\n",
    "    \n",
    "    def __init__(self, store=\"oats\"):\n",
    "        self.store = store\n",
    "        self.in_cart = []\n",
    "        self.store_name = \"OatsMill\"\n",
    "        if store == \"soda\":\n",
    "            self.store_name = \"Stanley's Soda\"\n",
    "        elif store == \"cheese\":\n",
    "            self.store_name = \"Cheese Factory\"\n",
    "    \n",
    "    def main_prompt(self):\n",
    "        while True:\n",
    "            user_inp = input(f\"Do you want to : Show/Add/Delete or Quit? \")\n",
    "            if user_inp == 'show':\n",
    "                self.show_items()\n",
    "                continue\n",
    "            elif user_inp == 'add':\n",
    "                self.add_item()\n",
    "                continue\n",
    "            elif user_inp == 'del' or user_inp == 'delete':\n",
    "                self.remove_item()\n",
    "                continue\n",
    "            elif user_inp == 'quit':\n",
    "                quit = self.receipt()\n",
    "                if quit:\n",
    "                    return\n",
    "            else:\n",
    "                print(f\"Invalid option - Try Again\")\n",
    "            \n",
    "                \n",
    "    def show_items(self):\n",
    "        if len(self.in_cart) == 0:\n",
    "            print(\"OOPs! Seems your cart is empty...\")\n",
    "        else:\n",
    "            for item in self.in_cart:\n",
    "                print(f\"{item.count} {item.name} {item.type}     for ${format(item.price * item.count,'.2f')}\\n\")\n",
    "            return\n",
    "    \n",
    "    def add_item(self):\n",
    "        Items.print_type(self.store)\n",
    "        while True:\n",
    "            item_choice = input(\"Which item would you like? \").lower()\n",
    "            for item in all_items:\n",
    "                if item.name.lower() == item_choice:\n",
    "                    while True:\n",
    "                        count_num = input(f\"How many of {item.name} would you like? 1-10: \")\n",
    "                        try:\n",
    "                            if item in self.in_cart:\n",
    "                                item.count = int(count_num)\n",
    "                                print(f\"Updated {item.name} to {item.count} in your cart! \")\n",
    "                                return\n",
    "                            if 0 < int(count_num) <= 10:\n",
    "                                item.count = int(count_num)\n",
    "                                break\n",
    "                        except:\n",
    "                            print(\"Please enter a valid number \")\n",
    "                            continue\n",
    "                    self.in_cart.append(item)        \n",
    "                    print(f\"{item.name} added to cart!\")\n",
    "                    return\n",
    "            print(\"Sorry, that item does not exist.\")\n",
    "        \n",
    "    \n",
    "    def remove_item(self):\n",
    "        self.show_items()\n",
    "        while True:\n",
    "            item_choice = input(\"Which item would you like to remove? \").lower()\n",
    "            for item in self.in_cart:\n",
    "                if item.name.lower() == item_choice:\n",
    "                    while True:\n",
    "                        count_num = input(f\"How many of {item.name} would you like to remove? 0-10: \")\n",
    "                        try:\n",
    "                            if int(count_num) >= item.count:\n",
    "                                while True:\n",
    "                                    prompt = input(f\"are you sure you want to remove {item.name} from your list? Y/N \").lower()\n",
    "                                    if prompt == 'y':\n",
    "                                        item.count = 0\n",
    "                                        print(f\"{item.name} has been removed\")\n",
    "                                        self.in_cart.remove(item)\n",
    "                                        return\n",
    "                                    elif prompt == 'n':\n",
    "                                        break\n",
    "                                    else:\n",
    "                                        print(\"Error: Invalid Answer\")\n",
    "                                        continue\n",
    "                            elif int(count_num) < item.count:\n",
    "                                item.count -= int(count_num)\n",
    "                                print(f\"You now have {item.count} {item.name} in your cart\")\n",
    "                                return\n",
    "                        except:\n",
    "                            print(\"Please enter a valid number \")\n",
    "                            continue\n",
    "                else:\n",
    "                    print(\"Sorry, that item is not in the cart\")\n",
    "    \n",
    "    def receipt(self):\n",
    "        while True:\n",
    "            choice = input(f\"Are you sure you want to leave {self.store_name}? Y/N \").lower()\n",
    "            if choice == 'y':\n",
    "                if len(self.in_cart) == 0:\n",
    "                    print(f\"{self.store_name} thanks you for stopping by! \")\n",
    "                    return True\n",
    "                self.show_items()\n",
    "                total = 0\n",
    "                for item in self.in_cart:\n",
    "                    total += (item.price * item.count)\n",
    "                print(f\"          Total: ${format(total,'.2f')}\\n\")\n",
    "                print(f\"Thanks for Shopping at {self.store_name}! \\n\")\n",
    "                print(\"\\nYour delivery will arrive momentarily...\")\n",
    "                return True\n",
    "            elif choice == 'n':\n",
    "                return False\n",
    "            else:\n",
    "                print(\"Error: Invalid Answer\")\n",
    "                continue\n",
    "        \n",
    "class Items:\n",
    "    count = 1\n",
    "    \n",
    "    def __init__(self, n=\"\", p=0.0, o=\"\", t=\"\"):\n",
    "        self.name = n\n",
    "        self.price = p\n",
    "        self.oz = o\n",
    "        self.type = t\n",
    "        all_items.append(self)\n",
    "        \n",
    "    def __repr__(self):\n",
    "        return f\"({self.oz}) --{self.name}-- {self.type}      for ${format(self.price,'.2f')}\\n\"\n",
    "    \n",
    "    def print_type(t):\n",
    "        \n",
    "        for item in all_items:\n",
    "            if item.type.lower() == t:\n",
    "                print(f\"{repr(item)}\")\n",
    "    \n",
    "pilgrim_oats = Items(\"Pilgrims\", 2.30, \"8oz\", \"Oats\")\n",
    "spellmans_oats = Items(\"Spellmans\", 2.45, \"6oz\", \"Oats\")\n",
    "goats_oats = Items(\"'G'oats\", 3.00, \"8oz\", \"Oats\")\n",
    "muenster_ch = Items(\"Muenster\", 3.20, \"12oz\", \"Cheese\")\n",
    "havarti_ch = Items(\"Havarti\", 4.20, \"12oz\", \"Cheese\")\n",
    "gouda_ch = Items(\"Gouda\", 3.89, \"10oz\", \"Cheese\")\n",
    "ibm_soda = Items(\"IBM Root Beer\", 1.80, \"12oz\", \"Soda\")\n",
    "boyles_soda = Items(\"Boyle's Creme\", 1.55, \"12oz\", \"Soda\")\n",
    "klutztown_soda = Items(\"Klutztown Birch Beer\", 1.85, \"12oz\", \"Soda\")\n",
    "aqua_soda = Items(\"Immortan Joe's Aqua~Cola\", 20.15, \"12oz\", \"Soda\")\n",
    "\n",
    "def store_choice():\n",
    "    while True:\n",
    "        store_choice = input(\"Which store would you like to go to? OatsMill, Cheese Factory, or Stanley's Soda? \").lower()\n",
    "        if store_choice == 'oats' or store_choice == 'cheese' or store_choice == 'soda':\n",
    "            return store_choice\n",
    "        else:\n",
    "            print(\"Invalid option: please choose 'oats', 'cheese', or 'soda'\")\n",
    "            continue\n",
    "    \n",
    "print(\"Welcome to Spinj's Food Delivery Service 2.0: Your one-stop food delivery app! We're 'classy' like that.\")\n",
    "print(\"Let's get you started! \")\n",
    "    \n",
    "while True:\n",
    "    store = store_choice()\n",
    "    new_cart = Cart(store)\n",
    "    new_cart.main_prompt()\n",
    "    while True:\n",
    "        stay = input(\"You you like to continue shopping? Y/N \").lower()\n",
    "        if stay == 'y':\n",
    "            break\n",
    "        elif stay == 'n':\n",
    "            print(\"Thank you for using Spinj's Food Delivery Service 2.0!\")\n",
    "            sys.exit(0)\n",
    "        else:\n",
    "            print(\"Error: Select a valid input\")\n",
    "            continue\n"
   ]
  },
  {
   "cell_type": "markdown",
   "metadata": {},
   "source": [
    "### Exercise 2 - Write a Python class which has two methods get_String and print_String. get_String accept a string from the user and print_String print the string in upper case"
   ]
  },
  {
   "cell_type": "code",
   "execution_count": 74,
   "metadata": {},
   "outputs": [
    {
     "name": "stdout",
     "output_type": "stream",
     "text": [
      "Error: input is not a string\n",
      "\n",
      "Hello World!\n",
      "HELLO WORLD!\n"
     ]
    }
   ],
   "source": [
    "class StringMod:\n",
    "    string = \"\"\n",
    "    def get_String(self, s=\"\"):\n",
    "        if type(s) is str:\n",
    "            self.string = s\n",
    "        else:\n",
    "            print(\"Error: input is not a string\")\n",
    "            return\n",
    "    \n",
    "    def print_String(self):\n",
    "        print(self.string.upper())\n",
    "            \n",
    "var = StringMod()\n",
    "var.get_String(2)\n",
    "print(var.string)\n",
    "var.get_String(\"Hello World!\")\n",
    "print(var.string)\n",
    "var.print_String()"
   ]
  },
  {
   "cell_type": "code",
   "execution_count": null,
   "metadata": {},
   "outputs": [],
   "source": []
  }
 ],
 "metadata": {
  "kernelspec": {
   "display_name": "Python 3 (ipykernel)",
   "language": "python",
   "name": "python3"
  },
  "language_info": {
   "codemirror_mode": {
    "name": "ipython",
    "version": 3
   },
   "file_extension": ".py",
   "mimetype": "text/x-python",
   "name": "python",
   "nbconvert_exporter": "python",
   "pygments_lexer": "ipython3",
   "version": "3.10.9"
  }
 },
 "nbformat": 4,
 "nbformat_minor": 2
}
